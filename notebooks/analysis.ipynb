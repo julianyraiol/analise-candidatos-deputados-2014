{
 "cells": [
  {
   "cell_type": "code",
   "execution_count": 1,
   "metadata": {},
   "outputs": [],
   "source": [
    "import pandas as pd\n",
    "import numpy as np\n",
    "import matplotlib.pyplot as plt\n",
    "%matplotlib inline"
   ]
  },
  {
   "cell_type": "markdown",
   "metadata": {},
   "source": [
    "### 1.0. Análise de candidatos a deputados em 2014"
   ]
  },
  {
   "cell_type": "code",
   "execution_count": 2,
   "metadata": {},
   "outputs": [],
   "source": [
    "dataframe = pd.read_csv('../data/candidates.csv', encoding='latin1')"
   ]
  },
  {
   "cell_type": "markdown",
   "metadata": {},
   "source": [
    "### 1.1. Informações gerais do dataset"
   ]
  },
  {
   "cell_type": "code",
   "execution_count": 3,
   "metadata": {},
   "outputs": [
    {
     "data": {
      "text/html": [
       "<div>\n",
       "<style scoped>\n",
       "    .dataframe tbody tr th:only-of-type {\n",
       "        vertical-align: middle;\n",
       "    }\n",
       "\n",
       "    .dataframe tbody tr th {\n",
       "        vertical-align: top;\n",
       "    }\n",
       "\n",
       "    .dataframe thead th {\n",
       "        text-align: right;\n",
       "    }\n",
       "</style>\n",
       "<table border=\"1\" class=\"dataframe\">\n",
       "  <thead>\n",
       "    <tr style=\"text-align: right;\">\n",
       "      <th></th>\n",
       "      <th>SIGLA_UF</th>\n",
       "      <th>CODIGO_CARGO</th>\n",
       "      <th>DESCRICAO_CARGO</th>\n",
       "      <th>NOME_CANDIDATO</th>\n",
       "      <th>SEQUENCIAL_CANDIDATO</th>\n",
       "      <th>COD_SITUACAO_CANDIDATURA</th>\n",
       "      <th>DES_SITUACAO_CANDIDATURA</th>\n",
       "      <th>NUMERO_PARTIDO</th>\n",
       "      <th>CODIGO_LEGENDA</th>\n",
       "      <th>CODIGO_OCUPACAO</th>\n",
       "      <th>...</th>\n",
       "      <th>TP_RECEITA_APLICACAO</th>\n",
       "      <th>TP_RECEITA_EVENTO</th>\n",
       "      <th>TP_RECEITA_FISICA</th>\n",
       "      <th>TP_RECEITA_INTERNET</th>\n",
       "      <th>TP_RECEITA_JURIDICA</th>\n",
       "      <th>TP_RECEITA_NAO_IDENTIFICADA</th>\n",
       "      <th>TP_RECEITA_OUTRO</th>\n",
       "      <th>TP_RECEITA_PARTIDO</th>\n",
       "      <th>TP_RECEITA_PROPRIO</th>\n",
       "      <th>VALOR_RECEITA</th>\n",
       "    </tr>\n",
       "  </thead>\n",
       "  <tbody>\n",
       "    <tr>\n",
       "      <th>0</th>\n",
       "      <td>AC</td>\n",
       "      <td>7</td>\n",
       "      <td>DEPUTADO ESTADUAL</td>\n",
       "      <td>BENEDITO SILVA BARBOSA</td>\n",
       "      <td>10000000504</td>\n",
       "      <td>2</td>\n",
       "      <td>DEFERIDO</td>\n",
       "      <td>23</td>\n",
       "      <td>10000000034</td>\n",
       "      <td>266</td>\n",
       "      <td>...</td>\n",
       "      <td>0.0</td>\n",
       "      <td>0.0</td>\n",
       "      <td>0.0</td>\n",
       "      <td>0.0</td>\n",
       "      <td>0.0</td>\n",
       "      <td>0.0</td>\n",
       "      <td>0.00</td>\n",
       "      <td>690.5</td>\n",
       "      <td>1500.0</td>\n",
       "      <td>2190.50</td>\n",
       "    </tr>\n",
       "    <tr>\n",
       "      <th>1</th>\n",
       "      <td>AC</td>\n",
       "      <td>7</td>\n",
       "      <td>DEPUTADO ESTADUAL</td>\n",
       "      <td>MARIA APARECIDA ALVES DE SOUZA</td>\n",
       "      <td>10000000055</td>\n",
       "      <td>2</td>\n",
       "      <td>DEFERIDO</td>\n",
       "      <td>12</td>\n",
       "      <td>10000000021</td>\n",
       "      <td>254</td>\n",
       "      <td>...</td>\n",
       "      <td>0.0</td>\n",
       "      <td>0.0</td>\n",
       "      <td>0.0</td>\n",
       "      <td>0.0</td>\n",
       "      <td>0.0</td>\n",
       "      <td>0.0</td>\n",
       "      <td>821.88</td>\n",
       "      <td>0.0</td>\n",
       "      <td>0.0</td>\n",
       "      <td>821.88</td>\n",
       "    </tr>\n",
       "    <tr>\n",
       "      <th>2</th>\n",
       "      <td>AC</td>\n",
       "      <td>7</td>\n",
       "      <td>DEPUTADO ESTADUAL</td>\n",
       "      <td>ASTÉRIO DE PAULA MOREIRA FILHO</td>\n",
       "      <td>10000000206</td>\n",
       "      <td>2</td>\n",
       "      <td>DEFERIDO</td>\n",
       "      <td>51</td>\n",
       "      <td>10000000028</td>\n",
       "      <td>277</td>\n",
       "      <td>...</td>\n",
       "      <td>0.0</td>\n",
       "      <td>0.0</td>\n",
       "      <td>18100.0</td>\n",
       "      <td>0.0</td>\n",
       "      <td>0.0</td>\n",
       "      <td>0.0</td>\n",
       "      <td>36505.00</td>\n",
       "      <td>17500.0</td>\n",
       "      <td>34500.0</td>\n",
       "      <td>106605.00</td>\n",
       "    </tr>\n",
       "    <tr>\n",
       "      <th>3</th>\n",
       "      <td>AC</td>\n",
       "      <td>7</td>\n",
       "      <td>DEPUTADO ESTADUAL</td>\n",
       "      <td>JOSÉ MASTRANGELO FILHO</td>\n",
       "      <td>10000000514</td>\n",
       "      <td>2</td>\n",
       "      <td>DEFERIDO</td>\n",
       "      <td>23</td>\n",
       "      <td>10000000034</td>\n",
       "      <td>171</td>\n",
       "      <td>...</td>\n",
       "      <td>0.0</td>\n",
       "      <td>0.0</td>\n",
       "      <td>0.0</td>\n",
       "      <td>0.0</td>\n",
       "      <td>0.0</td>\n",
       "      <td>0.0</td>\n",
       "      <td>0.00</td>\n",
       "      <td>0.0</td>\n",
       "      <td>6500.0</td>\n",
       "      <td>6500.00</td>\n",
       "    </tr>\n",
       "    <tr>\n",
       "      <th>4</th>\n",
       "      <td>AC</td>\n",
       "      <td>7</td>\n",
       "      <td>DEPUTADO ESTADUAL</td>\n",
       "      <td>CARLOS ANDRÉ MENEZES DE OLIVEIRA</td>\n",
       "      <td>10000000519</td>\n",
       "      <td>2</td>\n",
       "      <td>DEFERIDO</td>\n",
       "      <td>23</td>\n",
       "      <td>10000000034</td>\n",
       "      <td>244</td>\n",
       "      <td>...</td>\n",
       "      <td>NaN</td>\n",
       "      <td>NaN</td>\n",
       "      <td>NaN</td>\n",
       "      <td>NaN</td>\n",
       "      <td>NaN</td>\n",
       "      <td>NaN</td>\n",
       "      <td>NaN</td>\n",
       "      <td>NaN</td>\n",
       "      <td>NaN</td>\n",
       "      <td>NaN</td>\n",
       "    </tr>\n",
       "  </tbody>\n",
       "</table>\n",
       "<p>5 rows × 56 columns</p>\n",
       "</div>"
      ],
      "text/plain": [
       "  SIGLA_UF  CODIGO_CARGO    DESCRICAO_CARGO                    NOME_CANDIDATO  \\\n",
       "0       AC             7  DEPUTADO ESTADUAL            BENEDITO SILVA BARBOSA   \n",
       "1       AC             7  DEPUTADO ESTADUAL    MARIA APARECIDA ALVES DE SOUZA   \n",
       "2       AC             7  DEPUTADO ESTADUAL    ASTÉRIO DE PAULA MOREIRA FILHO   \n",
       "3       AC             7  DEPUTADO ESTADUAL            JOSÉ MASTRANGELO FILHO   \n",
       "4       AC             7  DEPUTADO ESTADUAL  CARLOS ANDRÉ MENEZES DE OLIVEIRA   \n",
       "\n",
       "   SEQUENCIAL_CANDIDATO  COD_SITUACAO_CANDIDATURA DES_SITUACAO_CANDIDATURA  \\\n",
       "0           10000000504                         2                 DEFERIDO   \n",
       "1           10000000055                         2                 DEFERIDO   \n",
       "2           10000000206                         2                 DEFERIDO   \n",
       "3           10000000514                         2                 DEFERIDO   \n",
       "4           10000000519                         2                 DEFERIDO   \n",
       "\n",
       "   NUMERO_PARTIDO  CODIGO_LEGENDA  CODIGO_OCUPACAO  ... TP_RECEITA_APLICACAO  \\\n",
       "0              23     10000000034              266  ...                  0.0   \n",
       "1              12     10000000021              254  ...                  0.0   \n",
       "2              51     10000000028              277  ...                  0.0   \n",
       "3              23     10000000034              171  ...                  0.0   \n",
       "4              23     10000000034              244  ...                  NaN   \n",
       "\n",
       "   TP_RECEITA_EVENTO  TP_RECEITA_FISICA TP_RECEITA_INTERNET  \\\n",
       "0                0.0                0.0                 0.0   \n",
       "1                0.0                0.0                 0.0   \n",
       "2                0.0            18100.0                 0.0   \n",
       "3                0.0                0.0                 0.0   \n",
       "4                NaN                NaN                 NaN   \n",
       "\n",
       "   TP_RECEITA_JURIDICA TP_RECEITA_NAO_IDENTIFICADA  TP_RECEITA_OUTRO  \\\n",
       "0                  0.0                         0.0              0.00   \n",
       "1                  0.0                         0.0            821.88   \n",
       "2                  0.0                         0.0          36505.00   \n",
       "3                  0.0                         0.0              0.00   \n",
       "4                  NaN                         NaN               NaN   \n",
       "\n",
       "  TP_RECEITA_PARTIDO  TP_RECEITA_PROPRIO VALOR_RECEITA  \n",
       "0              690.5              1500.0       2190.50  \n",
       "1                0.0                 0.0        821.88  \n",
       "2            17500.0             34500.0     106605.00  \n",
       "3                0.0              6500.0       6500.00  \n",
       "4                NaN                 NaN           NaN  \n",
       "\n",
       "[5 rows x 56 columns]"
      ]
     },
     "execution_count": 3,
     "metadata": {},
     "output_type": "execute_result"
    }
   ],
   "source": [
    "dataframe.head()"
   ]
  },
  {
   "cell_type": "code",
   "execution_count": null,
   "metadata": {},
   "outputs": [],
   "source": [
    "dataframe.describe()"
   ]
  },
  {
   "cell_type": "code",
   "execution_count": null,
   "metadata": {},
   "outputs": [],
   "source": [
    "dataframe.info()"
   ]
  },
  {
   "cell_type": "markdown",
   "metadata": {},
   "source": [
    "### 1.2. Formatação dos dados"
   ]
  },
  {
   "cell_type": "code",
   "execution_count": null,
   "metadata": {},
   "outputs": [],
   "source": [
    "dataframe['VALOR_BEM'].fillna(0.0, inplace=True) ## Altera os valores nulos da tabela para 0\n",
    "dataframe['SETOR_A'].fillna(0.0, inplace=True)\n",
    "dataframe['SETOR_B'].fillna(0.0, inplace=True)\n",
    "dataframe['SETOR_C'].fillna(0.0, inplace=True)\n",
    "dataframe['SETOR_D'].fillna(0.0, inplace=True)\n",
    "dataframe['SETOR_E'].fillna(0.0, inplace=True)\n",
    "dataframe['SETOR_F'].fillna(0.0, inplace=True)\n",
    "dataframe['SETOR_G'].fillna(0.0, inplace=True)\n",
    "dataframe['SETOR_H'].fillna(0.0, inplace=True)\n",
    "dataframe['SETOR_I'].fillna(0.0, inplace=True)\n",
    "dataframe['SETOR_J'].fillna(0.0, inplace=True)\n",
    "dataframe['SETOR_K'].fillna(0.0, inplace=True)\n",
    "dataframe['SETOR_L'].fillna(0.0, inplace=True)\n",
    "dataframe['SETOR_M'].fillna(0.0, inplace=True)\n",
    "dataframe['SETOR_N'].fillna(0.0, inplace=True)\n",
    "dataframe['SETOR_O'].fillna(0.0, inplace=True)\n",
    "dataframe['SETOR_P'].fillna(0.0, inplace=True)\n",
    "dataframe['SETOR_Q'].fillna(0.0, inplace=True)\n",
    "dataframe['SETOR_R'].fillna(0.0, inplace=True)\n",
    "dataframe['SETOR_S'].fillna(0.0, inplace=True)"
   ]
  },
  {
   "cell_type": "code",
   "execution_count": null,
   "metadata": {},
   "outputs": [],
   "source": [
    "dataframe['SETOR_NAO_IDENTIFICADO'].fillna(0.0, inplace=True)\n",
    "dataframe['TP_RECEITA_APLICACAO'].fillna(0.0, inplace=True)\n",
    "dataframe['TP_RECEITA_EVENTO'].fillna(0.0, inplace=True)\n",
    "dataframe['TP_RECEITA_FISICA'].fillna(0.0, inplace=True)\n",
    "dataframe['TP_RECEITA_INTERNET'].fillna(0.0, inplace=True)\n",
    "dataframe['TP_RECEITA_JURIDICA'].fillna(0.0, inplace=True)   \n",
    "dataframe['TP_RECEITA_NAO_IDENTIFICADA'].fillna(0.0, inplace=True)\n",
    "dataframe['TP_RECEITA_OUTRO'].fillna(0.0, inplace=True)\n",
    "dataframe['TP_RECEITA_PARTIDO'].fillna(0.0, inplace=True)\n",
    "dataframe['TP_RECEITA_PROPRIO'].fillna(0.0, inplace=True)\n",
    "dataframe['VALOR_RECEITA'].fillna(0.0, inplace=True)"
   ]
  },
  {
   "cell_type": "code",
   "execution_count": null,
   "metadata": {},
   "outputs": [],
   "source": [
    "dataframe.info()"
   ]
  },
  {
   "cell_type": "code",
   "execution_count": null,
   "metadata": {},
   "outputs": [],
   "source": [
    "dataframe.duplicated().sum() # verifica se há valores duplicados"
   ]
  },
  {
   "cell_type": "markdown",
   "metadata": {},
   "source": [
    "### 1.3. Análise dos dados - Quantidade de candidatos por Estado"
   ]
  },
  {
   "cell_type": "code",
   "execution_count": null,
   "metadata": {},
   "outputs": [],
   "source": [
    "SIGLA_UF = dataframe.groupby('SIGLA_UF')['SIGLA_UF'].count()\n",
    "SIGLA_UF"
   ]
  },
  {
   "cell_type": "code",
   "execution_count": null,
   "metadata": {},
   "outputs": [],
   "source": [
    "SIGLA_UF.sort_values().plot(kind=\"bar\", figsize=(10,6))\n",
    "plt.title('Quantidade de canditados por Estado')\n",
    "plt.ylabel('Quantidade', fontsize=14)\n",
    "plt.xlabel('Siga do Estado', fontsize=14)\n",
    "plt.show()"
   ]
  },
  {
   "cell_type": "markdown",
   "metadata": {},
   "source": [
    "### 1.4. Análise dos dados - Quantidade de candidatos por sexo"
   ]
  },
  {
   "cell_type": "markdown",
   "metadata": {},
   "source": [
    "> Quantidade de Homens e de Mulheres que foram candidatos"
   ]
  },
  {
   "cell_type": "code",
   "execution_count": null,
   "metadata": {
    "scrolled": true
   },
   "outputs": [],
   "source": [
    "CODIGO_SEXO = dataframe.groupby('CODIGO_SEXO')['CODIGO_SEXO'].count()\n",
    "CODIGO_SEXO"
   ]
  },
  {
   "cell_type": "markdown",
   "metadata": {},
   "source": [
    "> Gráfico que relaciona Homens e de Mulheres que foram candidatos"
   ]
  },
  {
   "cell_type": "code",
   "execution_count": null,
   "metadata": {},
   "outputs": [],
   "source": [
    "plt.bar([1, 2], CODIGO_SEXO, tick_label = ['Homens', 'Mulheres'], color=['#55D2FF','#FF557B'])\n",
    "plt.title('Sexo por Quantidade')\n",
    "plt.ylabel('Quantidade', fontsize=14)\n",
    "plt.xlabel('Sexo', fontsize=14)\n",
    "plt.show()"
   ]
  },
  {
   "cell_type": "markdown",
   "metadata": {},
   "source": [
    "### 1.5. Análise dos dados - Média de idade por sexo"
   ]
  },
  {
   "cell_type": "markdown",
   "metadata": {},
   "source": [
    "> Média de idade dos candidatos dividido por sexo"
   ]
  },
  {
   "cell_type": "code",
   "execution_count": null,
   "metadata": {},
   "outputs": [],
   "source": [
    "CODIGO_SEXO = dataframe.groupby('CODIGO_SEXO')['IDADE_DATA_ELEICAO'].mean()\n",
    "CODIGO_SEXO"
   ]
  },
  {
   "cell_type": "code",
   "execution_count": null,
   "metadata": {},
   "outputs": [],
   "source": [
    "search = pd.crosstab(dataframe['CODIGO_SEXO'],dataframe['IDADE_DATA_ELEICAO'])\n",
    "search.head(3)"
   ]
  },
  {
   "cell_type": "code",
   "execution_count": null,
   "metadata": {},
   "outputs": [],
   "source": [
    "search = dataframe.loc[dataframe['CODIGO_SEXO'] == 4]\n",
    "IDADE_DATA_ELEICAO = search.groupby('IDADE_DATA_ELEICAO')['IDADE_DATA_ELEICAO'].count()\n",
    "IDADE_DATA_ELEICAO.plot(kind='bar', figsize=(20,6), orientation='horizontal')\n",
    "plt.show()"
   ]
  },
  {
   "cell_type": "markdown",
   "metadata": {},
   "source": [
    "### 1.6. Análise dos dados - Despesa máxima da campanha"
   ]
  },
  {
   "cell_type": "code",
   "execution_count": null,
   "metadata": {},
   "outputs": [],
   "source": [
    "print (\"Média de despesas total: %f\" % dataframe['DESPESA_MAX_CAMPANHA'].mean())\n",
    "print (\"Maior de despesas total: %f\" % dataframe['DESPESA_MAX_CAMPANHA'].max())\n",
    "print(\"\\nDados gerais\")\n",
    "dataframe['DESPESA_MAX_CAMPANHA'].describe()"
   ]
  },
  {
   "cell_type": "code",
   "execution_count": null,
   "metadata": {},
   "outputs": [],
   "source": [
    "DESPESA_MAX_CAMPANHA = dataframe.groupby('DESPESA_MAX_CAMPANHA')['DESPESA_MAX_CAMPANHA'].count()\n",
    "DESPESA_MAX_CAMPANHA.plot(kind='hist', figsize=(20,6))\n",
    "plt.show()"
   ]
  },
  {
   "cell_type": "code",
   "execution_count": null,
   "metadata": {},
   "outputs": [],
   "source": [
    "search = pd.crosstab(dataframe['CODIGO_SEXO'],dataframe['DESC_SIT_TOT_TURNO'])\n",
    "search.plot(kind=\"bar\")"
   ]
  },
  {
   "cell_type": "code",
   "execution_count": null,
   "metadata": {},
   "outputs": [],
   "source": [
    "search = pd.crosstab(dataframe['CODIGO_SEXO'], dataframe['DESC_SIT_TOT_TURNO'])\n",
    "search"
   ]
  },
  {
   "cell_type": "code",
   "execution_count": null,
   "metadata": {},
   "outputs": [],
   "source": [
    "search = dataframe.groupby('DESC_SIT_TOT_TURNO')['DESC_SIT_TOT_TURNO'].count()\n",
    "search"
   ]
  },
  {
   "cell_type": "code",
   "execution_count": null,
   "metadata": {},
   "outputs": [],
   "source": [
    "search = dataframe.groupby('COD_SIT_TOT_TURNO')['COD_SIT_TOT_TURNO'].count()\n",
    "search # 2 - ELEITO POR QP, 3 - ELEITO POR MÉDIA, 4 - NÃO ELEITO, 5 - SUPLENTE"
   ]
  },
  {
   "cell_type": "code",
   "execution_count": null,
   "metadata": {},
   "outputs": [],
   "source": [
    "search = dataframe.query('COD_SIT_TOT_TURNO == 4 & CODIGO_SEXO == 4')\n",
    "filter1 = search.groupby('SIGLA_UF')['SIGLA_UF'].count()\n",
    "filter1.plot(kind='bar')"
   ]
  },
  {
   "cell_type": "code",
   "execution_count": null,
   "metadata": {},
   "outputs": [],
   "source": []
  }
 ],
 "metadata": {
  "kernelspec": {
   "display_name": "Python 3",
   "language": "python",
   "name": "python3"
  },
  "language_info": {
   "codemirror_mode": {
    "name": "ipython",
    "version": 3
   },
   "file_extension": ".py",
   "mimetype": "text/x-python",
   "name": "python",
   "nbconvert_exporter": "python",
   "pygments_lexer": "ipython3",
   "version": "3.7.3"
  }
 },
 "nbformat": 4,
 "nbformat_minor": 2
}
