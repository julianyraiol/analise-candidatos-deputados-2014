{
 "cells": [
  {
   "cell_type": "code",
   "execution_count": 1,
   "metadata": {},
   "outputs": [],
   "source": [
    "import pandas as pd\n",
    "import numpy as np\n",
    "import matplotlib.pyplot as plt\n",
    "%matplotlib inline"
   ]
  },
  {
   "cell_type": "markdown",
   "metadata": {},
   "source": [
    "### 1.0. Análise de candidatos a deputados em 2014"
   ]
  },
  {
   "cell_type": "code",
   "execution_count": 143,
   "metadata": {},
   "outputs": [],
   "source": [
    "dataframe = pd.read_csv('candidatos_deputados_2014_final.csv', encoding='latin1')\n"
   ]
  },
  {
   "cell_type": "markdown",
   "metadata": {},
   "source": [
    "### 1.1. Informações gerais do dataset"
   ]
  },
  {
   "cell_type": "code",
   "execution_count": 3,
   "metadata": {},
   "outputs": [
    {
     "data": {
      "text/html": [
       "<div>\n",
       "<style scoped>\n",
       "    .dataframe tbody tr th:only-of-type {\n",
       "        vertical-align: middle;\n",
       "    }\n",
       "\n",
       "    .dataframe tbody tr th {\n",
       "        vertical-align: top;\n",
       "    }\n",
       "\n",
       "    .dataframe thead th {\n",
       "        text-align: right;\n",
       "    }\n",
       "</style>\n",
       "<table border=\"1\" class=\"dataframe\">\n",
       "  <thead>\n",
       "    <tr style=\"text-align: right;\">\n",
       "      <th></th>\n",
       "      <th>SIGLA_UF</th>\n",
       "      <th>CODIGO_CARGO</th>\n",
       "      <th>DESCRICAO_CARGO</th>\n",
       "      <th>NOME_CANDIDATO</th>\n",
       "      <th>SEQUENCIAL_CANDIDATO</th>\n",
       "      <th>COD_SITUACAO_CANDIDATURA</th>\n",
       "      <th>DES_SITUACAO_CANDIDATURA</th>\n",
       "      <th>NUMERO_PARTIDO</th>\n",
       "      <th>CODIGO_LEGENDA</th>\n",
       "      <th>CODIGO_OCUPACAO</th>\n",
       "      <th>...</th>\n",
       "      <th>TP_RECEITA_APLICACAO</th>\n",
       "      <th>TP_RECEITA_EVENTO</th>\n",
       "      <th>TP_RECEITA_FISICA</th>\n",
       "      <th>TP_RECEITA_INTERNET</th>\n",
       "      <th>TP_RECEITA_JURIDICA</th>\n",
       "      <th>TP_RECEITA_NAO_IDENTIFICADA</th>\n",
       "      <th>TP_RECEITA_OUTRO</th>\n",
       "      <th>TP_RECEITA_PARTIDO</th>\n",
       "      <th>TP_RECEITA_PROPRIO</th>\n",
       "      <th>VALOR_RECEITA</th>\n",
       "    </tr>\n",
       "  </thead>\n",
       "  <tbody>\n",
       "    <tr>\n",
       "      <th>0</th>\n",
       "      <td>AC</td>\n",
       "      <td>7</td>\n",
       "      <td>DEPUTADO ESTADUAL</td>\n",
       "      <td>BENEDITO SILVA BARBOSA</td>\n",
       "      <td>10000000504</td>\n",
       "      <td>2</td>\n",
       "      <td>DEFERIDO</td>\n",
       "      <td>23</td>\n",
       "      <td>10000000034</td>\n",
       "      <td>266</td>\n",
       "      <td>...</td>\n",
       "      <td>0.0</td>\n",
       "      <td>0.0</td>\n",
       "      <td>0.0</td>\n",
       "      <td>0.0</td>\n",
       "      <td>0.0</td>\n",
       "      <td>0.0</td>\n",
       "      <td>0.00</td>\n",
       "      <td>690.5</td>\n",
       "      <td>1500.0</td>\n",
       "      <td>2190.50</td>\n",
       "    </tr>\n",
       "    <tr>\n",
       "      <th>1</th>\n",
       "      <td>AC</td>\n",
       "      <td>7</td>\n",
       "      <td>DEPUTADO ESTADUAL</td>\n",
       "      <td>MARIA APARECIDA ALVES DE SOUZA</td>\n",
       "      <td>10000000055</td>\n",
       "      <td>2</td>\n",
       "      <td>DEFERIDO</td>\n",
       "      <td>12</td>\n",
       "      <td>10000000021</td>\n",
       "      <td>254</td>\n",
       "      <td>...</td>\n",
       "      <td>0.0</td>\n",
       "      <td>0.0</td>\n",
       "      <td>0.0</td>\n",
       "      <td>0.0</td>\n",
       "      <td>0.0</td>\n",
       "      <td>0.0</td>\n",
       "      <td>821.88</td>\n",
       "      <td>0.0</td>\n",
       "      <td>0.0</td>\n",
       "      <td>821.88</td>\n",
       "    </tr>\n",
       "    <tr>\n",
       "      <th>2</th>\n",
       "      <td>AC</td>\n",
       "      <td>7</td>\n",
       "      <td>DEPUTADO ESTADUAL</td>\n",
       "      <td>ASTÉRIO DE PAULA MOREIRA FILHO</td>\n",
       "      <td>10000000206</td>\n",
       "      <td>2</td>\n",
       "      <td>DEFERIDO</td>\n",
       "      <td>51</td>\n",
       "      <td>10000000028</td>\n",
       "      <td>277</td>\n",
       "      <td>...</td>\n",
       "      <td>0.0</td>\n",
       "      <td>0.0</td>\n",
       "      <td>18100.0</td>\n",
       "      <td>0.0</td>\n",
       "      <td>0.0</td>\n",
       "      <td>0.0</td>\n",
       "      <td>36505.00</td>\n",
       "      <td>17500.0</td>\n",
       "      <td>34500.0</td>\n",
       "      <td>106605.00</td>\n",
       "    </tr>\n",
       "    <tr>\n",
       "      <th>3</th>\n",
       "      <td>AC</td>\n",
       "      <td>7</td>\n",
       "      <td>DEPUTADO ESTADUAL</td>\n",
       "      <td>JOSÉ MASTRANGELO FILHO</td>\n",
       "      <td>10000000514</td>\n",
       "      <td>2</td>\n",
       "      <td>DEFERIDO</td>\n",
       "      <td>23</td>\n",
       "      <td>10000000034</td>\n",
       "      <td>171</td>\n",
       "      <td>...</td>\n",
       "      <td>0.0</td>\n",
       "      <td>0.0</td>\n",
       "      <td>0.0</td>\n",
       "      <td>0.0</td>\n",
       "      <td>0.0</td>\n",
       "      <td>0.0</td>\n",
       "      <td>0.00</td>\n",
       "      <td>0.0</td>\n",
       "      <td>6500.0</td>\n",
       "      <td>6500.00</td>\n",
       "    </tr>\n",
       "    <tr>\n",
       "      <th>4</th>\n",
       "      <td>AC</td>\n",
       "      <td>7</td>\n",
       "      <td>DEPUTADO ESTADUAL</td>\n",
       "      <td>CARLOS ANDRÉ MENEZES DE OLIVEIRA</td>\n",
       "      <td>10000000519</td>\n",
       "      <td>2</td>\n",
       "      <td>DEFERIDO</td>\n",
       "      <td>23</td>\n",
       "      <td>10000000034</td>\n",
       "      <td>244</td>\n",
       "      <td>...</td>\n",
       "      <td>NaN</td>\n",
       "      <td>NaN</td>\n",
       "      <td>NaN</td>\n",
       "      <td>NaN</td>\n",
       "      <td>NaN</td>\n",
       "      <td>NaN</td>\n",
       "      <td>NaN</td>\n",
       "      <td>NaN</td>\n",
       "      <td>NaN</td>\n",
       "      <td>NaN</td>\n",
       "    </tr>\n",
       "  </tbody>\n",
       "</table>\n",
       "<p>5 rows × 56 columns</p>\n",
       "</div>"
      ],
      "text/plain": [
       "  SIGLA_UF  CODIGO_CARGO    DESCRICAO_CARGO                    NOME_CANDIDATO  \\\n",
       "0       AC             7  DEPUTADO ESTADUAL            BENEDITO SILVA BARBOSA   \n",
       "1       AC             7  DEPUTADO ESTADUAL    MARIA APARECIDA ALVES DE SOUZA   \n",
       "2       AC             7  DEPUTADO ESTADUAL    ASTÉRIO DE PAULA MOREIRA FILHO   \n",
       "3       AC             7  DEPUTADO ESTADUAL            JOSÉ MASTRANGELO FILHO   \n",
       "4       AC             7  DEPUTADO ESTADUAL  CARLOS ANDRÉ MENEZES DE OLIVEIRA   \n",
       "\n",
       "   SEQUENCIAL_CANDIDATO  COD_SITUACAO_CANDIDATURA DES_SITUACAO_CANDIDATURA  \\\n",
       "0           10000000504                         2                 DEFERIDO   \n",
       "1           10000000055                         2                 DEFERIDO   \n",
       "2           10000000206                         2                 DEFERIDO   \n",
       "3           10000000514                         2                 DEFERIDO   \n",
       "4           10000000519                         2                 DEFERIDO   \n",
       "\n",
       "   NUMERO_PARTIDO  CODIGO_LEGENDA  CODIGO_OCUPACAO      ...       \\\n",
       "0              23     10000000034              266      ...        \n",
       "1              12     10000000021              254      ...        \n",
       "2              51     10000000028              277      ...        \n",
       "3              23     10000000034              171      ...        \n",
       "4              23     10000000034              244      ...        \n",
       "\n",
       "  TP_RECEITA_APLICACAO  TP_RECEITA_EVENTO  TP_RECEITA_FISICA  \\\n",
       "0                  0.0                0.0                0.0   \n",
       "1                  0.0                0.0                0.0   \n",
       "2                  0.0                0.0            18100.0   \n",
       "3                  0.0                0.0                0.0   \n",
       "4                  NaN                NaN                NaN   \n",
       "\n",
       "  TP_RECEITA_INTERNET  TP_RECEITA_JURIDICA TP_RECEITA_NAO_IDENTIFICADA  \\\n",
       "0                 0.0                  0.0                         0.0   \n",
       "1                 0.0                  0.0                         0.0   \n",
       "2                 0.0                  0.0                         0.0   \n",
       "3                 0.0                  0.0                         0.0   \n",
       "4                 NaN                  NaN                         NaN   \n",
       "\n",
       "   TP_RECEITA_OUTRO TP_RECEITA_PARTIDO  TP_RECEITA_PROPRIO VALOR_RECEITA  \n",
       "0              0.00              690.5              1500.0       2190.50  \n",
       "1            821.88                0.0                 0.0        821.88  \n",
       "2          36505.00            17500.0             34500.0     106605.00  \n",
       "3              0.00                0.0              6500.0       6500.00  \n",
       "4               NaN                NaN                 NaN           NaN  \n",
       "\n",
       "[5 rows x 56 columns]"
      ]
     },
     "execution_count": 3,
     "metadata": {},
     "output_type": "execute_result"
    }
   ],
   "source": [
    "dataframe.head()"
   ]
  },
  {
   "cell_type": "code",
   "execution_count": 4,
   "metadata": {},
   "outputs": [
    {
     "data": {
      "text/html": [
       "<div>\n",
       "<style scoped>\n",
       "    .dataframe tbody tr th:only-of-type {\n",
       "        vertical-align: middle;\n",
       "    }\n",
       "\n",
       "    .dataframe tbody tr th {\n",
       "        vertical-align: top;\n",
       "    }\n",
       "\n",
       "    .dataframe thead th {\n",
       "        text-align: right;\n",
       "    }\n",
       "</style>\n",
       "<table border=\"1\" class=\"dataframe\">\n",
       "  <thead>\n",
       "    <tr style=\"text-align: right;\">\n",
       "      <th></th>\n",
       "      <th>CODIGO_CARGO</th>\n",
       "      <th>SEQUENCIAL_CANDIDATO</th>\n",
       "      <th>COD_SITUACAO_CANDIDATURA</th>\n",
       "      <th>NUMERO_PARTIDO</th>\n",
       "      <th>CODIGO_LEGENDA</th>\n",
       "      <th>CODIGO_OCUPACAO</th>\n",
       "      <th>IDADE_DATA_ELEICAO</th>\n",
       "      <th>CODIGO_SEXO</th>\n",
       "      <th>COD_GRAU_INSTRUCAO</th>\n",
       "      <th>CODIGO_ESTADO_CIVIL</th>\n",
       "      <th>...</th>\n",
       "      <th>TP_RECEITA_APLICACAO</th>\n",
       "      <th>TP_RECEITA_EVENTO</th>\n",
       "      <th>TP_RECEITA_FISICA</th>\n",
       "      <th>TP_RECEITA_INTERNET</th>\n",
       "      <th>TP_RECEITA_JURIDICA</th>\n",
       "      <th>TP_RECEITA_NAO_IDENTIFICADA</th>\n",
       "      <th>TP_RECEITA_OUTRO</th>\n",
       "      <th>TP_RECEITA_PARTIDO</th>\n",
       "      <th>TP_RECEITA_PROPRIO</th>\n",
       "      <th>VALOR_RECEITA</th>\n",
       "    </tr>\n",
       "  </thead>\n",
       "  <tbody>\n",
       "    <tr>\n",
       "      <th>count</th>\n",
       "      <td>21124.000000</td>\n",
       "      <td>2.112400e+04</td>\n",
       "      <td>21124.000000</td>\n",
       "      <td>21124.000000</td>\n",
       "      <td>2.112400e+04</td>\n",
       "      <td>21124.000000</td>\n",
       "      <td>21124.000000</td>\n",
       "      <td>21124.000000</td>\n",
       "      <td>21124.000000</td>\n",
       "      <td>21124.000000</td>\n",
       "      <td>...</td>\n",
       "      <td>17728.000000</td>\n",
       "      <td>17728.000000</td>\n",
       "      <td>1.772800e+04</td>\n",
       "      <td>17728.000000</td>\n",
       "      <td>1.772800e+04</td>\n",
       "      <td>17728.000000</td>\n",
       "      <td>1.772800e+04</td>\n",
       "      <td>1.772800e+04</td>\n",
       "      <td>1.772800e+04</td>\n",
       "      <td>1.772800e+04</td>\n",
       "    </tr>\n",
       "    <tr>\n",
       "      <th>mean</th>\n",
       "      <td>6.767563</td>\n",
       "      <td>1.505065e+11</td>\n",
       "      <td>2.015243</td>\n",
       "      <td>33.772392</td>\n",
       "      <td>1.505065e+11</td>\n",
       "      <td>415.259421</td>\n",
       "      <td>46.751278</td>\n",
       "      <td>2.583412</td>\n",
       "      <td>6.704743</td>\n",
       "      <td>3.131509</td>\n",
       "      <td>...</td>\n",
       "      <td>7.036320</td>\n",
       "      <td>0.125790</td>\n",
       "      <td>2.351419e+04</td>\n",
       "      <td>48.399494</td>\n",
       "      <td>3.612112e+04</td>\n",
       "      <td>14.908870</td>\n",
       "      <td>1.821933e+04</td>\n",
       "      <td>3.999410e+04</td>\n",
       "      <td>1.830199e+04</td>\n",
       "      <td>1.362212e+05</td>\n",
       "    </tr>\n",
       "    <tr>\n",
       "      <th>std</th>\n",
       "      <td>0.518864</td>\n",
       "      <td>7.425464e+10</td>\n",
       "      <td>0.461719</td>\n",
       "      <td>19.472368</td>\n",
       "      <td>7.425464e+10</td>\n",
       "      <td>318.335785</td>\n",
       "      <td>11.222254</td>\n",
       "      <td>0.909117</td>\n",
       "      <td>1.489878</td>\n",
       "      <td>2.304216</td>\n",
       "      <td>...</td>\n",
       "      <td>197.468051</td>\n",
       "      <td>15.119948</td>\n",
       "      <td>7.594180e+04</td>\n",
       "      <td>2293.766378</td>\n",
       "      <td>1.710402e+05</td>\n",
       "      <td>807.473966</td>\n",
       "      <td>7.203672e+04</td>\n",
       "      <td>2.080572e+05</td>\n",
       "      <td>9.764954e+04</td>\n",
       "      <td>4.106590e+05</td>\n",
       "    </tr>\n",
       "    <tr>\n",
       "      <th>min</th>\n",
       "      <td>6.000000</td>\n",
       "      <td>1.000000e+10</td>\n",
       "      <td>2.000000</td>\n",
       "      <td>10.000000</td>\n",
       "      <td>1.000000e+10</td>\n",
       "      <td>101.000000</td>\n",
       "      <td>20.000000</td>\n",
       "      <td>2.000000</td>\n",
       "      <td>2.000000</td>\n",
       "      <td>1.000000</td>\n",
       "      <td>...</td>\n",
       "      <td>0.000000</td>\n",
       "      <td>0.000000</td>\n",
       "      <td>0.000000e+00</td>\n",
       "      <td>0.000000</td>\n",
       "      <td>0.000000e+00</td>\n",
       "      <td>0.000000</td>\n",
       "      <td>0.000000e+00</td>\n",
       "      <td>0.000000e+00</td>\n",
       "      <td>0.000000e+00</td>\n",
       "      <td>1.000000e-02</td>\n",
       "    </tr>\n",
       "    <tr>\n",
       "      <th>25%</th>\n",
       "      <td>6.000000</td>\n",
       "      <td>9.000000e+10</td>\n",
       "      <td>2.000000</td>\n",
       "      <td>16.000000</td>\n",
       "      <td>9.000000e+10</td>\n",
       "      <td>171.000000</td>\n",
       "      <td>39.000000</td>\n",
       "      <td>2.000000</td>\n",
       "      <td>6.000000</td>\n",
       "      <td>1.000000</td>\n",
       "      <td>...</td>\n",
       "      <td>0.000000</td>\n",
       "      <td>0.000000</td>\n",
       "      <td>0.000000e+00</td>\n",
       "      <td>0.000000</td>\n",
       "      <td>0.000000e+00</td>\n",
       "      <td>0.000000</td>\n",
       "      <td>0.000000e+00</td>\n",
       "      <td>0.000000e+00</td>\n",
       "      <td>0.000000e+00</td>\n",
       "      <td>2.802762e+03</td>\n",
       "    </tr>\n",
       "    <tr>\n",
       "      <th>50%</th>\n",
       "      <td>7.000000</td>\n",
       "      <td>1.600000e+11</td>\n",
       "      <td>2.000000</td>\n",
       "      <td>31.000000</td>\n",
       "      <td>1.600000e+11</td>\n",
       "      <td>277.000000</td>\n",
       "      <td>47.000000</td>\n",
       "      <td>2.000000</td>\n",
       "      <td>7.000000</td>\n",
       "      <td>3.000000</td>\n",
       "      <td>...</td>\n",
       "      <td>0.000000</td>\n",
       "      <td>0.000000</td>\n",
       "      <td>1.448000e+03</td>\n",
       "      <td>0.000000</td>\n",
       "      <td>0.000000e+00</td>\n",
       "      <td>0.000000</td>\n",
       "      <td>1.007755e+03</td>\n",
       "      <td>0.000000e+00</td>\n",
       "      <td>1.000000e+02</td>\n",
       "      <td>1.074726e+04</td>\n",
       "    </tr>\n",
       "    <tr>\n",
       "      <th>75%</th>\n",
       "      <td>7.000000</td>\n",
       "      <td>2.100000e+11</td>\n",
       "      <td>2.000000</td>\n",
       "      <td>45.000000</td>\n",
       "      <td>2.100000e+11</td>\n",
       "      <td>581.000000</td>\n",
       "      <td>54.000000</td>\n",
       "      <td>4.000000</td>\n",
       "      <td>8.000000</td>\n",
       "      <td>3.000000</td>\n",
       "      <td>...</td>\n",
       "      <td>0.000000</td>\n",
       "      <td>0.000000</td>\n",
       "      <td>1.099110e+04</td>\n",
       "      <td>0.000000</td>\n",
       "      <td>1.435500e+03</td>\n",
       "      <td>0.000000</td>\n",
       "      <td>7.775750e+03</td>\n",
       "      <td>4.000000e+03</td>\n",
       "      <td>5.931560e+03</td>\n",
       "      <td>6.739185e+04</td>\n",
       "    </tr>\n",
       "    <tr>\n",
       "      <th>max</th>\n",
       "      <td>8.000000</td>\n",
       "      <td>2.700000e+11</td>\n",
       "      <td>16.000000</td>\n",
       "      <td>90.000000</td>\n",
       "      <td>2.700000e+11</td>\n",
       "      <td>999.000000</td>\n",
       "      <td>91.000000</td>\n",
       "      <td>4.000000</td>\n",
       "      <td>8.000000</td>\n",
       "      <td>9.000000</td>\n",
       "      <td>...</td>\n",
       "      <td>12496.320000</td>\n",
       "      <td>2000.000000</td>\n",
       "      <td>1.859112e+06</td>\n",
       "      <td>203300.000000</td>\n",
       "      <td>3.828338e+06</td>\n",
       "      <td>100000.000000</td>\n",
       "      <td>2.174926e+06</td>\n",
       "      <td>5.769682e+06</td>\n",
       "      <td>4.041310e+06</td>\n",
       "      <td>6.832481e+06</td>\n",
       "    </tr>\n",
       "  </tbody>\n",
       "</table>\n",
       "<p>8 rows × 45 columns</p>\n",
       "</div>"
      ],
      "text/plain": [
       "       CODIGO_CARGO  SEQUENCIAL_CANDIDATO  COD_SITUACAO_CANDIDATURA  \\\n",
       "count  21124.000000          2.112400e+04              21124.000000   \n",
       "mean       6.767563          1.505065e+11                  2.015243   \n",
       "std        0.518864          7.425464e+10                  0.461719   \n",
       "min        6.000000          1.000000e+10                  2.000000   \n",
       "25%        6.000000          9.000000e+10                  2.000000   \n",
       "50%        7.000000          1.600000e+11                  2.000000   \n",
       "75%        7.000000          2.100000e+11                  2.000000   \n",
       "max        8.000000          2.700000e+11                 16.000000   \n",
       "\n",
       "       NUMERO_PARTIDO  CODIGO_LEGENDA  CODIGO_OCUPACAO  IDADE_DATA_ELEICAO  \\\n",
       "count    21124.000000    2.112400e+04     21124.000000        21124.000000   \n",
       "mean        33.772392    1.505065e+11       415.259421           46.751278   \n",
       "std         19.472368    7.425464e+10       318.335785           11.222254   \n",
       "min         10.000000    1.000000e+10       101.000000           20.000000   \n",
       "25%         16.000000    9.000000e+10       171.000000           39.000000   \n",
       "50%         31.000000    1.600000e+11       277.000000           47.000000   \n",
       "75%         45.000000    2.100000e+11       581.000000           54.000000   \n",
       "max         90.000000    2.700000e+11       999.000000           91.000000   \n",
       "\n",
       "        CODIGO_SEXO  COD_GRAU_INSTRUCAO  CODIGO_ESTADO_CIVIL      ...        \\\n",
       "count  21124.000000        21124.000000         21124.000000      ...         \n",
       "mean       2.583412            6.704743             3.131509      ...         \n",
       "std        0.909117            1.489878             2.304216      ...         \n",
       "min        2.000000            2.000000             1.000000      ...         \n",
       "25%        2.000000            6.000000             1.000000      ...         \n",
       "50%        2.000000            7.000000             3.000000      ...         \n",
       "75%        4.000000            8.000000             3.000000      ...         \n",
       "max        4.000000            8.000000             9.000000      ...         \n",
       "\n",
       "       TP_RECEITA_APLICACAO  TP_RECEITA_EVENTO  TP_RECEITA_FISICA  \\\n",
       "count          17728.000000       17728.000000       1.772800e+04   \n",
       "mean               7.036320           0.125790       2.351419e+04   \n",
       "std              197.468051          15.119948       7.594180e+04   \n",
       "min                0.000000           0.000000       0.000000e+00   \n",
       "25%                0.000000           0.000000       0.000000e+00   \n",
       "50%                0.000000           0.000000       1.448000e+03   \n",
       "75%                0.000000           0.000000       1.099110e+04   \n",
       "max            12496.320000        2000.000000       1.859112e+06   \n",
       "\n",
       "       TP_RECEITA_INTERNET  TP_RECEITA_JURIDICA  TP_RECEITA_NAO_IDENTIFICADA  \\\n",
       "count         17728.000000         1.772800e+04                 17728.000000   \n",
       "mean             48.399494         3.612112e+04                    14.908870   \n",
       "std            2293.766378         1.710402e+05                   807.473966   \n",
       "min               0.000000         0.000000e+00                     0.000000   \n",
       "25%               0.000000         0.000000e+00                     0.000000   \n",
       "50%               0.000000         0.000000e+00                     0.000000   \n",
       "75%               0.000000         1.435500e+03                     0.000000   \n",
       "max          203300.000000         3.828338e+06                100000.000000   \n",
       "\n",
       "       TP_RECEITA_OUTRO  TP_RECEITA_PARTIDO  TP_RECEITA_PROPRIO  VALOR_RECEITA  \n",
       "count      1.772800e+04        1.772800e+04        1.772800e+04   1.772800e+04  \n",
       "mean       1.821933e+04        3.999410e+04        1.830199e+04   1.362212e+05  \n",
       "std        7.203672e+04        2.080572e+05        9.764954e+04   4.106590e+05  \n",
       "min        0.000000e+00        0.000000e+00        0.000000e+00   1.000000e-02  \n",
       "25%        0.000000e+00        0.000000e+00        0.000000e+00   2.802762e+03  \n",
       "50%        1.007755e+03        0.000000e+00        1.000000e+02   1.074726e+04  \n",
       "75%        7.775750e+03        4.000000e+03        5.931560e+03   6.739185e+04  \n",
       "max        2.174926e+06        5.769682e+06        4.041310e+06   6.832481e+06  \n",
       "\n",
       "[8 rows x 45 columns]"
      ]
     },
     "execution_count": 4,
     "metadata": {},
     "output_type": "execute_result"
    }
   ],
   "source": [
    "dataframe.describe()"
   ]
  },
  {
   "cell_type": "code",
   "execution_count": 5,
   "metadata": {},
   "outputs": [
    {
     "name": "stdout",
     "output_type": "stream",
     "text": [
      "<class 'pandas.core.frame.DataFrame'>\n",
      "RangeIndex: 21124 entries, 0 to 21123\n",
      "Data columns (total 56 columns):\n",
      "SIGLA_UF                       21124 non-null object\n",
      "CODIGO_CARGO                   21124 non-null int64\n",
      "DESCRICAO_CARGO                21124 non-null object\n",
      "NOME_CANDIDATO                 21124 non-null object\n",
      "SEQUENCIAL_CANDIDATO           21124 non-null int64\n",
      "COD_SITUACAO_CANDIDATURA       21124 non-null int64\n",
      "DES_SITUACAO_CANDIDATURA       21124 non-null object\n",
      "NUMERO_PARTIDO                 21124 non-null int64\n",
      "CODIGO_LEGENDA                 21124 non-null int64\n",
      "CODIGO_OCUPACAO                21124 non-null int64\n",
      "DESCRICAO_OCUPACAO             21124 non-null object\n",
      "IDADE_DATA_ELEICAO             21124 non-null int64\n",
      "CODIGO_SEXO                    21124 non-null int64\n",
      "DESCRICAO_SEXO                 21124 non-null object\n",
      "COD_GRAU_INSTRUCAO             21124 non-null int64\n",
      "DESCRICAO_GRAU_INSTRUCAO       21124 non-null object\n",
      "CODIGO_ESTADO_CIVIL            21124 non-null int64\n",
      "DESCRICAO_ESTADO_CIVIL         21124 non-null object\n",
      "CODIGO_COR_RACA                21124 non-null int64\n",
      "DESCRICAO_COR_RACA             21124 non-null object\n",
      "CODIGO_NACIONALIDADE           21124 non-null int64\n",
      "DESCRICAO_NACIONALIDADE        21124 non-null object\n",
      "DESPESA_MAX_CAMPANHA           21124 non-null int64\n",
      "COD_SIT_TOT_TURNO              21124 non-null int64\n",
      "DESC_SIT_TOT_TURNO             21124 non-null object\n",
      "VALOR_BEM                      12865 non-null float64\n",
      "SETOR_A                        17728 non-null float64\n",
      "SETOR_B                        17728 non-null float64\n",
      "SETOR_C                        17728 non-null float64\n",
      "SETOR_D                        17728 non-null float64\n",
      "SETOR_E                        17728 non-null float64\n",
      "SETOR_F                        17728 non-null float64\n",
      "SETOR_G                        17728 non-null float64\n",
      "SETOR_H                        17728 non-null float64\n",
      "SETOR_I                        17728 non-null float64\n",
      "SETOR_J                        17728 non-null float64\n",
      "SETOR_K                        17728 non-null float64\n",
      "SETOR_L                        17728 non-null float64\n",
      "SETOR_M                        17728 non-null float64\n",
      "SETOR_N                        17728 non-null float64\n",
      "SETOR_O                        17728 non-null float64\n",
      "SETOR_P                        17728 non-null float64\n",
      "SETOR_Q                        17728 non-null float64\n",
      "SETOR_R                        17728 non-null float64\n",
      "SETOR_S                        17728 non-null float64\n",
      "SETOR_NAO_IDENTIFICADO         17728 non-null float64\n",
      "TP_RECEITA_APLICACAO           17728 non-null float64\n",
      "TP_RECEITA_EVENTO              17728 non-null float64\n",
      "TP_RECEITA_FISICA              17728 non-null float64\n",
      "TP_RECEITA_INTERNET            17728 non-null float64\n",
      "TP_RECEITA_JURIDICA            17728 non-null float64\n",
      "TP_RECEITA_NAO_IDENTIFICADA    17728 non-null float64\n",
      "TP_RECEITA_OUTRO               17728 non-null float64\n",
      "TP_RECEITA_PARTIDO             17728 non-null float64\n",
      "TP_RECEITA_PROPRIO             17728 non-null float64\n",
      "VALOR_RECEITA                  17728 non-null float64\n",
      "dtypes: float64(31), int64(14), object(11)\n",
      "memory usage: 9.0+ MB\n"
     ]
    }
   ],
   "source": [
    "dataframe.info()"
   ]
  },
  {
   "cell_type": "markdown",
   "metadata": {},
   "source": [
    "### 1.2. Formatação dos dados"
   ]
  },
  {
   "cell_type": "code",
   "execution_count": 6,
   "metadata": {},
   "outputs": [],
   "source": [
    "dataframe['VALOR_BEM'].fillna(0.0, inplace=True) ## Altera os valores nulos da tabela para 0\n",
    "dataframe['SETOR_A'].fillna(0.0, inplace=True)\n",
    "dataframe['SETOR_B'].fillna(0.0, inplace=True)\n",
    "dataframe['SETOR_C'].fillna(0.0, inplace=True)\n",
    "dataframe['SETOR_D'].fillna(0.0, inplace=True)\n",
    "dataframe['SETOR_E'].fillna(0.0, inplace=True)\n",
    "dataframe['SETOR_F'].fillna(0.0, inplace=True)\n",
    "dataframe['SETOR_G'].fillna(0.0, inplace=True)\n",
    "dataframe['SETOR_H'].fillna(0.0, inplace=True)\n",
    "dataframe['SETOR_I'].fillna(0.0, inplace=True)\n",
    "dataframe['SETOR_J'].fillna(0.0, inplace=True)\n",
    "dataframe['SETOR_K'].fillna(0.0, inplace=True)\n",
    "dataframe['SETOR_L'].fillna(0.0, inplace=True)\n",
    "dataframe['SETOR_M'].fillna(0.0, inplace=True)\n",
    "dataframe['SETOR_N'].fillna(0.0, inplace=True)\n",
    "dataframe['SETOR_O'].fillna(0.0, inplace=True)\n",
    "dataframe['SETOR_P'].fillna(0.0, inplace=True)\n",
    "dataframe['SETOR_Q'].fillna(0.0, inplace=True)\n",
    "dataframe['SETOR_R'].fillna(0.0, inplace=True)\n",
    "dataframe['SETOR_S'].fillna(0.0, inplace=True)"
   ]
  },
  {
   "cell_type": "code",
   "execution_count": 7,
   "metadata": {},
   "outputs": [],
   "source": [
    "dataframe['SETOR_NAO_IDENTIFICADO'].fillna(0.0, inplace=True)\n",
    "dataframe['TP_RECEITA_APLICACAO'].fillna(0.0, inplace=True)\n",
    "dataframe['TP_RECEITA_EVENTO'].fillna(0.0, inplace=True)\n",
    "dataframe['TP_RECEITA_FISICA'].fillna(0.0, inplace=True)\n",
    "dataframe['TP_RECEITA_INTERNET'].fillna(0.0, inplace=True)\n",
    "dataframe['TP_RECEITA_JURIDICA'].fillna(0.0, inplace=True)   \n",
    "dataframe['TP_RECEITA_NAO_IDENTIFICADA'].fillna(0.0, inplace=True)\n",
    "dataframe['TP_RECEITA_OUTRO'].fillna(0.0, inplace=True)\n",
    "dataframe['TP_RECEITA_PARTIDO'].fillna(0.0, inplace=True)\n",
    "dataframe['TP_RECEITA_PROPRIO'].fillna(0.0, inplace=True)\n",
    "dataframe['VALOR_RECEITA'].fillna(0.0, inplace=True)"
   ]
  },
  {
   "cell_type": "code",
   "execution_count": 8,
   "metadata": {},
   "outputs": [
    {
     "name": "stdout",
     "output_type": "stream",
     "text": [
      "<class 'pandas.core.frame.DataFrame'>\n",
      "RangeIndex: 21124 entries, 0 to 21123\n",
      "Data columns (total 56 columns):\n",
      "SIGLA_UF                       21124 non-null object\n",
      "CODIGO_CARGO                   21124 non-null int64\n",
      "DESCRICAO_CARGO                21124 non-null object\n",
      "NOME_CANDIDATO                 21124 non-null object\n",
      "SEQUENCIAL_CANDIDATO           21124 non-null int64\n",
      "COD_SITUACAO_CANDIDATURA       21124 non-null int64\n",
      "DES_SITUACAO_CANDIDATURA       21124 non-null object\n",
      "NUMERO_PARTIDO                 21124 non-null int64\n",
      "CODIGO_LEGENDA                 21124 non-null int64\n",
      "CODIGO_OCUPACAO                21124 non-null int64\n",
      "DESCRICAO_OCUPACAO             21124 non-null object\n",
      "IDADE_DATA_ELEICAO             21124 non-null int64\n",
      "CODIGO_SEXO                    21124 non-null int64\n",
      "DESCRICAO_SEXO                 21124 non-null object\n",
      "COD_GRAU_INSTRUCAO             21124 non-null int64\n",
      "DESCRICAO_GRAU_INSTRUCAO       21124 non-null object\n",
      "CODIGO_ESTADO_CIVIL            21124 non-null int64\n",
      "DESCRICAO_ESTADO_CIVIL         21124 non-null object\n",
      "CODIGO_COR_RACA                21124 non-null int64\n",
      "DESCRICAO_COR_RACA             21124 non-null object\n",
      "CODIGO_NACIONALIDADE           21124 non-null int64\n",
      "DESCRICAO_NACIONALIDADE        21124 non-null object\n",
      "DESPESA_MAX_CAMPANHA           21124 non-null int64\n",
      "COD_SIT_TOT_TURNO              21124 non-null int64\n",
      "DESC_SIT_TOT_TURNO             21124 non-null object\n",
      "VALOR_BEM                      21124 non-null float64\n",
      "SETOR_A                        21124 non-null float64\n",
      "SETOR_B                        21124 non-null float64\n",
      "SETOR_C                        21124 non-null float64\n",
      "SETOR_D                        21124 non-null float64\n",
      "SETOR_E                        21124 non-null float64\n",
      "SETOR_F                        21124 non-null float64\n",
      "SETOR_G                        21124 non-null float64\n",
      "SETOR_H                        21124 non-null float64\n",
      "SETOR_I                        21124 non-null float64\n",
      "SETOR_J                        21124 non-null float64\n",
      "SETOR_K                        21124 non-null float64\n",
      "SETOR_L                        21124 non-null float64\n",
      "SETOR_M                        21124 non-null float64\n",
      "SETOR_N                        21124 non-null float64\n",
      "SETOR_O                        21124 non-null float64\n",
      "SETOR_P                        21124 non-null float64\n",
      "SETOR_Q                        21124 non-null float64\n",
      "SETOR_R                        21124 non-null float64\n",
      "SETOR_S                        21124 non-null float64\n",
      "SETOR_NAO_IDENTIFICADO         21124 non-null float64\n",
      "TP_RECEITA_APLICACAO           21124 non-null float64\n",
      "TP_RECEITA_EVENTO              21124 non-null float64\n",
      "TP_RECEITA_FISICA              21124 non-null float64\n",
      "TP_RECEITA_INTERNET            21124 non-null float64\n",
      "TP_RECEITA_JURIDICA            21124 non-null float64\n",
      "TP_RECEITA_NAO_IDENTIFICADA    21124 non-null float64\n",
      "TP_RECEITA_OUTRO               21124 non-null float64\n",
      "TP_RECEITA_PARTIDO             21124 non-null float64\n",
      "TP_RECEITA_PROPRIO             21124 non-null float64\n",
      "VALOR_RECEITA                  21124 non-null float64\n",
      "dtypes: float64(31), int64(14), object(11)\n",
      "memory usage: 9.0+ MB\n"
     ]
    }
   ],
   "source": [
    "dataframe.info()"
   ]
  },
  {
   "cell_type": "code",
   "execution_count": 9,
   "metadata": {},
   "outputs": [
    {
     "data": {
      "text/plain": [
       "0"
      ]
     },
     "execution_count": 9,
     "metadata": {},
     "output_type": "execute_result"
    }
   ],
   "source": [
    "dataframe.duplicated().sum() # verifica se há valores duplicados"
   ]
  },
  {
   "cell_type": "markdown",
   "metadata": {},
   "source": [
    "### 1.3. Análise dos dados - Quantidade de candidatos por Estado"
   ]
  },
  {
   "cell_type": "code",
   "execution_count": 10,
   "metadata": {},
   "outputs": [
    {
     "data": {
      "text/plain": [
       "SIGLA_UF\n",
       "AC     553\n",
       "AL     352\n",
       "AM     619\n",
       "AP     435\n",
       "BA     838\n",
       "CE     730\n",
       "DF    1084\n",
       "ES     609\n",
       "GO     788\n",
       "MA     695\n",
       "MG    1629\n",
       "MS     489\n",
       "MT     362\n",
       "PA     787\n",
       "PB     398\n",
       "PE     628\n",
       "PI     303\n",
       "PR    1004\n",
       "RJ    2574\n",
       "RN     317\n",
       "RO     447\n",
       "RR     463\n",
       "RS     971\n",
       "SC     519\n",
       "SE     229\n",
       "SP    3023\n",
       "TO     278\n",
       "Name: SIGLA_UF, dtype: int64"
      ]
     },
     "execution_count": 10,
     "metadata": {},
     "output_type": "execute_result"
    }
   ],
   "source": [
    "SIGLA_UF = dataframe.groupby('SIGLA_UF')['SIGLA_UF'].count()\n",
    "SIGLA_UF"
   ]
  },
  {
   "cell_type": "code",
   "execution_count": 11,
   "metadata": {},
   "outputs": [
    {
     "data": {
      "image/png": "[encoded data removed]",
      "text/plain": [
       "<matplotlib.figure.Figure at 0x7f3a41351fd0>"
      ]
     },
     "metadata": {},
     "output_type": "display_data"
    }
   ],
   "source": [
    "SIGLA_UF.sort_values().plot(kind=\"bar\", figsize=(10,6))\n",
    "plt.title('Quantidade de canditados por Estado')\n",
    "plt.ylabel('Quantidade', fontsize=14)\n",
    "plt.xlabel('Siga do Estado', fontsize=14)\n",
    "plt.show()"
   ]
  },
  {
   "cell_type": "markdown",
   "metadata": {},
   "source": [
    "### 1.4. Análise dos dados - Quantidade de candidatos por sexo"
   ]
  },
  {
   "cell_type": "markdown",
   "metadata": {},
   "source": [
    "> Quantidade de Homens e de Mulheres que foram candidatos"
   ]
  },
  {
   "cell_type": "code",
   "execution_count": 12,
   "metadata": {
    "scrolled": true
   },
   "outputs": [
    {
     "data": {
      "text/plain": [
       "CODIGO_SEXO\n",
       "2    14962\n",
       "4     6162\n",
       "Name: CODIGO_SEXO, dtype: int64"
      ]
     },
     "execution_count": 12,
     "metadata": {},
     "output_type": "execute_result"
    }
   ],
   "source": [
    "CODIGO_SEXO = dataframe.groupby('CODIGO_SEXO')['CODIGO_SEXO'].count()\n",
    "CODIGO_SEXO"
   ]
  },
  {
   "cell_type": "markdown",
   "metadata": {},
   "source": [
    "> Gráfico que relaciona Homens e de Mulheres que foram candidatos"
   ]
  },
  {
   "cell_type": "code",
   "execution_count": 13,
   "metadata": {},
   "outputs": [
    {
     "data": {
      "image/png": "[encoded data removed]",
      "text/plain": [
       "<matplotlib.figure.Figure at 0x7f3a38ae2f10>"
      ]
     },
     "metadata": {},
     "output_type": "display_data"
    }
   ],
   "source": [
    "plt.bar([1, 2], CODIGO_SEXO, tick_label = ['Homens', 'Mulheres'], color=['#55D2FF','#FF557B'])\n",
    "plt.title('Sexo por Quantidade')\n",
    "plt.ylabel('Quantidade', fontsize=14)\n",
    "plt.xlabel('Sexo', fontsize=14)\n",
    "plt.show()"
   ]
  },
  {
   "cell_type": "markdown",
   "metadata": {},
   "source": [
    "### 1.5. Análise dos dados - Média de idade por sexo"
   ]
  },
  {
   "cell_type": "markdown",
   "metadata": {},
   "source": [
    "> Média de idade dos candidatos dividido por sexo"
   ]
  },
  {
   "cell_type": "code",
   "execution_count": 14,
   "metadata": {},
   "outputs": [
    {
     "data": {
      "text/plain": [
       "CODIGO_SEXO\n",
       "2    47.368600\n",
       "4    45.252353\n",
       "Name: IDADE_DATA_ELEICAO, dtype: float64"
      ]
     },
     "execution_count": 14,
     "metadata": {},
     "output_type": "execute_result"
    }
   ],
   "source": [
    "CODIGO_SEXO = dataframe.groupby('CODIGO_SEXO')['IDADE_DATA_ELEICAO'].mean()\n",
    "CODIGO_SEXO"
   ]
  },
  {
   "cell_type": "code",
   "execution_count": 15,
   "metadata": {},
   "outputs": [
    {
     "data": {
      "text/html": [
       "<div>\n",
       "<style scoped>\n",
       "    .dataframe tbody tr th:only-of-type {\n",
       "        vertical-align: middle;\n",
       "    }\n",
       "\n",
       "    .dataframe tbody tr th {\n",
       "        vertical-align: top;\n",
       "    }\n",
       "\n",
       "    .dataframe thead th {\n",
       "        text-align: right;\n",
       "    }\n",
       "</style>\n",
       "<table border=\"1\" class=\"dataframe\">\n",
       "  <thead>\n",
       "    <tr style=\"text-align: right;\">\n",
       "      <th>IDADE_DATA_ELEICAO</th>\n",
       "      <th>20</th>\n",
       "      <th>21</th>\n",
       "      <th>22</th>\n",
       "      <th>23</th>\n",
       "      <th>24</th>\n",
       "      <th>25</th>\n",
       "      <th>26</th>\n",
       "      <th>27</th>\n",
       "      <th>28</th>\n",
       "      <th>29</th>\n",
       "      <th>...</th>\n",
       "      <th>79</th>\n",
       "      <th>80</th>\n",
       "      <th>81</th>\n",
       "      <th>82</th>\n",
       "      <th>83</th>\n",
       "      <th>84</th>\n",
       "      <th>85</th>\n",
       "      <th>86</th>\n",
       "      <th>89</th>\n",
       "      <th>91</th>\n",
       "    </tr>\n",
       "    <tr>\n",
       "      <th>CODIGO_SEXO</th>\n",
       "      <th></th>\n",
       "      <th></th>\n",
       "      <th></th>\n",
       "      <th></th>\n",
       "      <th></th>\n",
       "      <th></th>\n",
       "      <th></th>\n",
       "      <th></th>\n",
       "      <th></th>\n",
       "      <th></th>\n",
       "      <th></th>\n",
       "      <th></th>\n",
       "      <th></th>\n",
       "      <th></th>\n",
       "      <th></th>\n",
       "      <th></th>\n",
       "      <th></th>\n",
       "      <th></th>\n",
       "      <th></th>\n",
       "      <th></th>\n",
       "      <th></th>\n",
       "    </tr>\n",
       "  </thead>\n",
       "  <tbody>\n",
       "    <tr>\n",
       "      <th>2</th>\n",
       "      <td>5</td>\n",
       "      <td>26</td>\n",
       "      <td>39</td>\n",
       "      <td>58</td>\n",
       "      <td>52</td>\n",
       "      <td>71</td>\n",
       "      <td>89</td>\n",
       "      <td>114</td>\n",
       "      <td>117</td>\n",
       "      <td>145</td>\n",
       "      <td>...</td>\n",
       "      <td>10</td>\n",
       "      <td>8</td>\n",
       "      <td>7</td>\n",
       "      <td>2</td>\n",
       "      <td>6</td>\n",
       "      <td>5</td>\n",
       "      <td>2</td>\n",
       "      <td>2</td>\n",
       "      <td>2</td>\n",
       "      <td>2</td>\n",
       "    </tr>\n",
       "    <tr>\n",
       "      <th>4</th>\n",
       "      <td>12</td>\n",
       "      <td>54</td>\n",
       "      <td>57</td>\n",
       "      <td>52</td>\n",
       "      <td>67</td>\n",
       "      <td>69</td>\n",
       "      <td>81</td>\n",
       "      <td>107</td>\n",
       "      <td>89</td>\n",
       "      <td>85</td>\n",
       "      <td>...</td>\n",
       "      <td>3</td>\n",
       "      <td>0</td>\n",
       "      <td>0</td>\n",
       "      <td>1</td>\n",
       "      <td>0</td>\n",
       "      <td>1</td>\n",
       "      <td>0</td>\n",
       "      <td>0</td>\n",
       "      <td>0</td>\n",
       "      <td>0</td>\n",
       "    </tr>\n",
       "  </tbody>\n",
       "</table>\n",
       "<p>2 rows × 69 columns</p>\n",
       "</div>"
      ],
      "text/plain": [
       "IDADE_DATA_ELEICAO  20  21  22  23  24  25  26   27   28   29 ...  79  80  81  \\\n",
       "CODIGO_SEXO                                                   ...               \n",
       "2                    5  26  39  58  52  71  89  114  117  145 ...  10   8   7   \n",
       "4                   12  54  57  52  67  69  81  107   89   85 ...   3   0   0   \n",
       "\n",
       "IDADE_DATA_ELEICAO  82  83  84  85  86  89  91  \n",
       "CODIGO_SEXO                                     \n",
       "2                    2   6   5   2   2   2   2  \n",
       "4                    1   0   1   0   0   0   0  \n",
       "\n",
       "[2 rows x 69 columns]"
      ]
     },
     "execution_count": 15,
     "metadata": {},
     "output_type": "execute_result"
    }
   ],
   "source": [
    "search = pd.crosstab(dataframe['CODIGO_SEXO'],dataframe['IDADE_DATA_ELEICAO'])\n",
    "search.head(3)"
   ]
  },
  {
   "cell_type": "code",
   "execution_count": 16,
   "metadata": {},
   "outputs": [
    {
     "data": {
      "image/png": "[encoded data removed]",
      "text/plain": [
       "<matplotlib.figure.Figure at 0x7f3a38aed410>"
      ]
     },
     "metadata": {},
     "output_type": "display_data"
    }
   ],
   "source": [
    "search = dataframe.loc[dataframe['CODIGO_SEXO'] == 4]\n",
    "IDADE_DATA_ELEICAO = search.groupby('IDADE_DATA_ELEICAO')['IDADE_DATA_ELEICAO'].count()\n",
    "IDADE_DATA_ELEICAO.plot(kind='bar', figsize=(20,6), orientation='horizontal')\n",
    "plt.show()"
   ]
  },
  {
   "cell_type": "markdown",
   "metadata": {},
   "source": [
    "### 1.6. Análise dos dados - Despesa máxima da campanha"
   ]
  },
  {
   "cell_type": "code",
   "execution_count": 115,
   "metadata": {},
   "outputs": [
    {
     "name": "stdout",
     "output_type": "stream",
     "text": [
      "Média de despesas total: 2759528.593069\n",
      "Maior de despesas total: 90000000.000000\n",
      "\n",
      "Dados gerais\n"
     ]
    },
    {
     "data": {
      "text/plain": [
       "count    2.112400e+04\n",
       "mean     2.759529e+06\n",
       "std      3.933739e+06\n",
       "min      0.000000e+00\n",
       "25%      1.000000e+06\n",
       "50%      2.000000e+06\n",
       "75%      4.000000e+06\n",
       "max      9.000000e+07\n",
       "Name: DESPESA_MAX_CAMPANHA, dtype: float64"
      ]
     },
     "execution_count": 115,
     "metadata": {},
     "output_type": "execute_result"
    }
   ],
   "source": [
    "print (\"Média de despesas total: %f\" % dataframe['DESPESA_MAX_CAMPANHA'].mean())\n",
    "print (\"Maior de despesas total: %f\" % dataframe['DESPESA_MAX_CAMPANHA'].max())\n",
    "print(\"\\nDados gerais\")\n",
    "dataframe['DESPESA_MAX_CAMPANHA'].describe()"
   ]
  },
  {
   "cell_type": "code",
   "execution_count": 18,
   "metadata": {},
   "outputs": [
    {
     "data": {
      "image/png": "[encoded data removed]",
      "text/plain": [
       "<matplotlib.figure.Figure at 0x7f3a3886e210>"
      ]
     },
     "metadata": {},
     "output_type": "display_data"
    }
   ],
   "source": [
    "DESPESA_MAX_CAMPANHA = dataframe.groupby('DESPESA_MAX_CAMPANHA')['DESPESA_MAX_CAMPANHA'].count()\n",
    "DESPESA_MAX_CAMPANHA.plot(kind='hist', figsize=(20,6))\n",
    "plt.show()"
   ]
  },
  {
   "cell_type": "code",
   "execution_count": 95,
   "metadata": {},
   "outputs": [
    {
     "data": {
      "text/plain": [
       "<matplotlib.axes._subplots.AxesSubplot at 0x7f3a3606e110>"
      ]
     },
     "execution_count": 95,
     "metadata": {},
     "output_type": "execute_result"
    },
    {
     "data": {
      "image/png": "[encoded data removed]",
      "text/plain": [
       "<matplotlib.figure.Figure at 0x7f3a36019c90>"
      ]
     },
     "metadata": {},
     "output_type": "display_data"
    }
   ],
   "source": [
    "search = pd.crosstab(dataframe['CODIGO_SEXO'],dataframe['DESC_SIT_TOT_TURNO'])\n",
    "search.plot(kind=\"bar\")"
   ]
  },
  {
   "cell_type": "code",
   "execution_count": 99,
   "metadata": {},
   "outputs": [
    {
     "data": {
      "text/html": [
       "<div>\n",
       "<style scoped>\n",
       "    .dataframe tbody tr th:only-of-type {\n",
       "        vertical-align: middle;\n",
       "    }\n",
       "\n",
       "    .dataframe tbody tr th {\n",
       "        vertical-align: top;\n",
       "    }\n",
       "\n",
       "    .dataframe thead th {\n",
       "        text-align: right;\n",
       "    }\n",
       "</style>\n",
       "<table border=\"1\" class=\"dataframe\">\n",
       "  <thead>\n",
       "    <tr style=\"text-align: right;\">\n",
       "      <th>DESC_SIT_TOT_TURNO</th>\n",
       "      <th>ELEITO POR MÉDIA</th>\n",
       "      <th>ELEITO POR QP</th>\n",
       "      <th>NÃO ELEITO</th>\n",
       "      <th>SUPLENTE</th>\n",
       "    </tr>\n",
       "    <tr>\n",
       "      <th>CODIGO_SEXO</th>\n",
       "      <th></th>\n",
       "      <th></th>\n",
       "      <th></th>\n",
       "      <th></th>\n",
       "    </tr>\n",
       "  </thead>\n",
       "  <tbody>\n",
       "    <tr>\n",
       "      <th>2</th>\n",
       "      <td>191</td>\n",
       "      <td>1211</td>\n",
       "      <td>2314</td>\n",
       "      <td>11246</td>\n",
       "    </tr>\n",
       "    <tr>\n",
       "      <th>4</th>\n",
       "      <td>24</td>\n",
       "      <td>146</td>\n",
       "      <td>1020</td>\n",
       "      <td>4972</td>\n",
       "    </tr>\n",
       "  </tbody>\n",
       "</table>\n",
       "</div>"
      ],
      "text/plain": [
       "DESC_SIT_TOT_TURNO  ELEITO POR MÉDIA  ELEITO POR QP  NÃO ELEITO  SUPLENTE\n",
       "CODIGO_SEXO                                                              \n",
       "2                                191           1211        2314     11246\n",
       "4                                 24            146        1020      4972"
      ]
     },
     "execution_count": 99,
     "metadata": {},
     "output_type": "execute_result"
    }
   ],
   "source": [
    "search = pd.crosstab(dataframe['CODIGO_SEXO'], dataframe['DESC_SIT_TOT_TURNO'])\n",
    "search"
   ]
  },
  {
   "cell_type": "code",
   "execution_count": 145,
   "metadata": {},
   "outputs": [
    {
     "data": {
      "text/plain": [
       "DESC_SIT_TOT_TURNO\n",
       "ELEITO POR MÉDIA      215\n",
       "ELEITO POR QP        1357\n",
       "NÃO ELEITO           3334\n",
       "SUPLENTE            16218\n",
       "Name: DESC_SIT_TOT_TURNO, dtype: int64"
      ]
     },
     "execution_count": 145,
     "metadata": {},
     "output_type": "execute_result"
    }
   ],
   "source": [
    "search = dataframe.groupby('DESC_SIT_TOT_TURNO')['DESC_SIT_TOT_TURNO'].count()\n",
    "search"
   ]
  },
  {
   "cell_type": "code",
   "execution_count": 147,
   "metadata": {},
   "outputs": [
    {
     "data": {
      "text/plain": [
       "COD_SIT_TOT_TURNO\n",
       "2     1357\n",
       "3      215\n",
       "4     3334\n",
       "5    16218\n",
       "Name: COD_SIT_TOT_TURNO, dtype: int64"
      ]
     },
     "execution_count": 147,
     "metadata": {},
     "output_type": "execute_result"
    }
   ],
   "source": [
    "search = dataframe.groupby('COD_SIT_TOT_TURNO')['COD_SIT_TOT_TURNO'].count()\n",
    "search # 2 - ELEITO POR QP, 3 - ELEITO POR MÉDIA, 4 - NÃO ELEITO, 5 - SUPLENTE"
   ]
  },
  {
   "cell_type": "code",
   "execution_count": 169,
   "metadata": {},
   "outputs": [
    {
     "data": {
      "text/plain": [
       "<matplotlib.axes._subplots.AxesSubplot at 0x7f39f4f6f810>"
      ]
     },
     "execution_count": 169,
     "metadata": {},
     "output_type": "execute_result"
    },
    {
     "data": {
      "image/png": "[encoded data removed]",
      "text/plain": [
       "<matplotlib.figure.Figure at 0x7f39f4ad1b90>"
      ]
     },
     "metadata": {},
     "output_type": "display_data"
    }
   ],
   "source": [
    "search = dataframe.query('COD_SIT_TOT_TURNO == 4 & CODIGO_SEXO == 4')\n",
    "filter1 = search.groupby('SIGLA_UF')['SIGLA_UF'].count()\n",
    "filter1.plot(kind='bar')"
   ]
  },
  {
   "cell_type": "code",
   "execution_count": null,
   "metadata": {},
   "outputs": [],
   "source": []
  }
 ],
 "metadata": {
  "kernelspec": {
   "display_name": "Python 2",
   "language": "python",
   "name": "python2"
  },
  "language_info": {
   "codemirror_mode": {
    "name": "ipython",
    "version": 2
   },
   "file_extension": ".py",
   "mimetype": "text/x-python",
   "name": "python",
   "nbconvert_exporter": "python",
   "pygments_lexer": "ipython2",
   "version": "2.7.14"
  }
 },
 "nbformat": 4,
 "nbformat_minor": 2
}
